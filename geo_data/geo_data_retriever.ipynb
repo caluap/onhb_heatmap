{
 "cells": [
  {
   "cell_type": "code",
   "execution_count": 17,
   "metadata": {},
   "outputs": [
    {
     "name": "stdout",
     "output_type": "stream",
     "text": [
      "(-22.90556, -47.06083)\n"
     ]
    }
   ],
   "source": [
    "import certifi\n",
    "import ssl\n",
    "import geopy.geocoders\n",
    "from geopy.geocoders import Nominatim\n",
    "\n",
    "ctx = ssl.create_default_context(cafile=certifi.where())\n",
    "geopy.geocoders.options.default_ssl_context = ctx\n",
    "\n",
    "geolocator = Nominatim(user_agent='onhb_geo_scrapper')\n",
    "location = geolocator.geocode(\"Campinas, SP, Brazil\")\n",
    "print((location.latitude, location.longitude))"
   ]
  }
 ],
 "metadata": {
  "kernelspec": {
   "display_name": "Python 3",
   "language": "python",
   "name": "python3"
  },
  "language_info": {
   "codemirror_mode": {
    "name": "ipython",
    "version": 3
   },
   "file_extension": ".py",
   "mimetype": "text/x-python",
   "name": "python",
   "nbconvert_exporter": "python",
   "pygments_lexer": "ipython3",
   "version": "3.6.2"
  }
 },
 "nbformat": 4,
 "nbformat_minor": 2
}
