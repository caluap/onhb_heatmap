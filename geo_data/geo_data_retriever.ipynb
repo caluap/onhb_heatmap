{
 "cells": [
  {
   "cell_type": "code",
   "execution_count": null,
   "metadata": {
    "collapsed": true,
    "scrolled": true
   },
   "outputs": [],
   "source": [
    "import certifi\n",
    "import ssl\n",
    "import geopy.geocoders\n",
    "from geopy.geocoders import GoogleV3\n",
    "\n",
    "ctx = ssl.create_default_context(cafile=certifi.where())\n",
    "geopy.geocoders.options.default_ssl_context = ctx"
   ]
  },
  {
   "cell_type": "code",
   "execution_count": null,
   "metadata": {
    "collapsed": true
   },
   "outputs": [],
   "source": [
    "f = open(\"gmaps_key.txt\", \"r\") \n",
    "key = f.read()"
   ]
  },
  {
   "cell_type": "code",
   "execution_count": null,
   "metadata": {
    "collapsed": true
   },
   "outputs": [],
   "source": [
    "geolocator = GoogleV3(api_key=key, user_agent=\"onhb-geo-scrapper\", timeout=3)"
   ]
  },
  {
   "cell_type": "code",
   "execution_count": null,
   "metadata": {
    "scrolled": true
   },
   "outputs": [],
   "source": [
    "location = geolocator.geocode(\"Campinas, SP, Brazil\")\n",
    "print((location.latitude, location.longitude))"
   ]
  },
  {
   "cell_type": "code",
   "execution_count": null,
   "metadata": {
    "collapsed": true
   },
   "outputs": [],
   "source": [
    "import json\n",
    "\n",
    "#with open('data.json') as json_file:  \n",
    "#  data = json.load(json_file)"
   ]
  },
  {
   "cell_type": "markdown",
   "metadata": {},
   "source": [
    "Merge two JSON files"
   ]
  },
  {
   "cell_type": "code",
   "execution_count": null,
   "metadata": {},
   "outputs": [],
   "source": [
    "pd = '../p5js/data/processed_data.json'\n",
    "\n",
    "with open(pd) as json_file:  \n",
    "  data = json.load(json_file)\n",
    "  \n",
    "with open('new_data.json') as json_file:\n",
    "  new_data = json.load(json_file)\n",
    "  \n",
    "print(f'old data started with {len(data[\"data\"])}')\n",
    "\n",
    "for updated_data in new_data['data']:\n",
    "  city_exists = False\n",
    "  for old_data in data['data']:\n",
    "    if updated_data['cidade'] == old_data['cidade']:\n",
    "      city_exists = True\n",
    "      old_data['qtd'] = updated_data['qtd']\n",
    "      break\n",
    "  if not city_exists:\n",
    "    data['data'].append(updated_data)\n",
    "    print(f'could not find {updated_data[\"cidade\"]}')\n",
    "    \n",
    "print(f'old data ended with {len(data[\"data\"])}')"
   ]
  },
  {
   "cell_type": "code",
   "execution_count": null,
   "metadata": {},
   "outputs": [],
   "source": [
    "# checks if n is equal in both json objects\n",
    "c = 0\n",
    "for nd in new_data['data']:\n",
    "  c += int(nd['qtd'])\n",
    "print(f'the new data count is {c}')\n",
    "\n",
    "c = 0\n",
    "for updated_data in data['data']:\n",
    "  c += int(updated_data['qtd'])\n",
    "print(f'the updated data count is {c}')"
   ]
  },
  {
   "cell_type": "markdown",
   "metadata": {},
   "source": [
    "...and fill out missing longitude and latitudes."
   ]
  },
  {
   "cell_type": "code",
   "execution_count": null,
   "metadata": {},
   "outputs": [],
   "source": [
    "i = 1\n",
    "suc = 0\n",
    "\n",
    "for city in data['data']:\n",
    "  if suc < 50:\n",
    "    s = city['cidade'] + ', ' + city['uf'] + ', Brazil'\n",
    "    if city['lat'] == '':\n",
    "      try:\n",
    "        location = geolocator.geocode(s)\n",
    "      except Exception as e:\n",
    "        print(f'#{i} -> {s} -> ERROR: {str(e)}')\n",
    "      else:\n",
    "        print(f'#{i} -> {s} -> {location.latitude} / {location.longitude}')\n",
    "        city['lat'] = location.latitude\n",
    "        city['long'] = location.longitude\n",
    "        suc += 1\n",
    "    else:\n",
    "      print(f'#{i} -> already has {s}')\n",
    "    i += 1\n",
    "  else:\n",
    "    suc = 0\n",
    "    print('...will now save')\n",
    "    with open(pd, 'w') as outfile:  \n",
    "      json.dump(data, outfile, indent=4, sort_keys=True)\n",
    "  \n",
    "with open(pd, 'w') as outfile:  \n",
    "    json.dump(data, outfile, indent=4, sort_keys=True)"
   ]
  }
 ],
 "metadata": {
  "kernelspec": {
   "display_name": "Python 3",
   "language": "python",
   "name": "python3"
  },
  "language_info": {
   "codemirror_mode": {
    "name": "ipython",
    "version": 3
   },
   "file_extension": ".py",
   "mimetype": "text/x-python",
   "name": "python",
   "nbconvert_exporter": "python",
   "pygments_lexer": "ipython3",
   "version": "3.6.2"
  }
 },
 "nbformat": 4,
 "nbformat_minor": 2
}
