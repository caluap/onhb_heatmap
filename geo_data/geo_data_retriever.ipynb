{
 "cells": [
  {
   "cell_type": "code",
   "execution_count": 33,
   "metadata": {
    "scrolled": true
   },
   "outputs": [],
   "source": [
    "import certifi\n",
    "import ssl\n",
    "import geopy.geocoders\n",
    "from geopy.geocoders import GoogleV3\n",
    "\n",
    "ctx = ssl.create_default_context(cafile=certifi.where())\n",
    "geopy.geocoders.options.default_ssl_context = ctx"
   ]
  },
  {
   "cell_type": "code",
   "execution_count": 34,
   "metadata": {},
   "outputs": [],
   "source": [
    "f = open(\"gmaps_key.txt\", \"r\") \n",
    "key = f.read()"
   ]
  },
  {
   "cell_type": "code",
   "execution_count": 35,
   "metadata": {
    "collapsed": true
   },
   "outputs": [],
   "source": [
    "geolocator = GoogleV3(api_key=key, user_agent=\"onhb-geo-scrapper\", timeout=3)"
   ]
  },
  {
   "cell_type": "code",
   "execution_count": 36,
   "metadata": {
    "scrolled": true
   },
   "outputs": [
    {
     "name": "stdout",
     "output_type": "stream",
     "text": [
      "(-22.9329252, -47.073845)\n"
     ]
    }
   ],
   "source": [
    "location = geolocator.geocode(\"Campinas, SP, Brazil\")\n",
    "print((location.latitude, location.longitude))"
   ]
  },
  {
   "cell_type": "code",
   "execution_count": 41,
   "metadata": {},
   "outputs": [],
   "source": [
    "import json\n",
    "\n",
    "with open('data.json') as json_file:  \n",
    "    data = json.load(json_file)"
   ]
  },
  {
   "cell_type": "code",
   "execution_count": null,
   "metadata": {},
   "outputs": [],
   "source": [
    "with open('processed_data.json') as json_file:  \n",
    "    data = json.load(json_file)\n",
    "\n",
    "i = 1\n",
    "suc = 0\n",
    "\n",
    "for city in data['data']:\n",
    "  if suc < 200:\n",
    "    s = city['cidade'] + ', ' + city['uf'] + ', Brazil'\n",
    "    if city['lat'] == '':\n",
    "      try:\n",
    "        location = geolocator.geocode(s)\n",
    "      except Exception as e:\n",
    "        print(f'#{i} -> {s} -> ERROR: {str(e)}')\n",
    "      else:\n",
    "        print(f'#{i} -> {s} -> {location.latitude} / {location.longitude}')\n",
    "        city['lat'] = location.latitude\n",
    "        city['long'] = location.longitude\n",
    "        suc += 1\n",
    "    else:\n",
    "      print(f'#{i} -> already has {s}')\n",
    "\n",
    "    i += 1\n",
    "  \n",
    "with open('processed_data.json', 'w') as outfile:  \n",
    "    json.dump(data, outfile, indent=4, sort_keys=True)"
   ]
  }
 ],
 "metadata": {
  "kernelspec": {
   "display_name": "Python 3",
   "language": "python",
   "name": "python3"
  },
  "language_info": {
   "codemirror_mode": {
    "name": "ipython",
    "version": 3
   },
   "file_extension": ".py",
   "mimetype": "text/x-python",
   "name": "python",
   "nbconvert_exporter": "python",
   "pygments_lexer": "ipython3",
   "version": "3.6.2"
  }
 },
 "nbformat": 4,
 "nbformat_minor": 2
}
